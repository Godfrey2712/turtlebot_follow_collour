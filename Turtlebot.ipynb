{
 "cells": [
  {
   "cell_type": "code",
   "execution_count": 1,
   "id": "6dc1e131",
   "metadata": {
    "scrolled": true
   },
   "outputs": [
    {
     "name": "stdout",
     "output_type": "stream",
     "text": [
      "Requirement already satisfied: pip in c:\\users\\administrator\\anaconda3\\lib\\site-packages (22.0.4)\n"
     ]
    },
    {
     "name": "stderr",
     "output_type": "stream",
     "text": [
      "ERROR: Could not find a version that satisfies the requirement tensorflow==2.3 (from versions: 2.5.0rc0, 2.5.0rc1, 2.5.0rc2, 2.5.0rc3, 2.5.0, 2.5.1, 2.5.2, 2.5.3, 2.6.0rc0, 2.6.0rc1, 2.6.0rc2, 2.6.0, 2.6.1, 2.6.2, 2.6.3, 2.7.0rc0, 2.7.0rc1, 2.7.0, 2.7.1, 2.8.0rc0, 2.8.0rc1, 2.8.0)\n",
      "ERROR: No matching distribution found for tensorflow==2.3\n"
     ]
    },
    {
     "name": "stdout",
     "output_type": "stream",
     "text": [
      "Requirement already satisfied: tensorboard==2.4.1 in c:\\users\\administrator\\anaconda3\\lib\\site-packages (2.4.1)\n",
      "Requirement already satisfied: protobuf>=3.6.0 in c:\\users\\administrator\\anaconda3\\lib\\site-packages (from tensorboard==2.4.1) (3.19.4)\n",
      "Requirement already satisfied: werkzeug>=0.11.15 in c:\\users\\administrator\\anaconda3\\lib\\site-packages (from tensorboard==2.4.1) (2.0.2)\n",
      "Requirement already satisfied: setuptools>=41.0.0 in c:\\users\\administrator\\anaconda3\\lib\\site-packages (from tensorboard==2.4.1) (58.0.4)\n",
      "Requirement already satisfied: tensorboard-plugin-wit>=1.6.0 in c:\\users\\administrator\\anaconda3\\lib\\site-packages (from tensorboard==2.4.1) (1.8.1)\n",
      "Requirement already satisfied: grpcio>=1.24.3 in c:\\users\\administrator\\anaconda3\\lib\\site-packages (from tensorboard==2.4.1) (1.44.0)\n",
      "Requirement already satisfied: google-auth<2,>=1.6.3 in c:\\users\\administrator\\anaconda3\\lib\\site-packages (from tensorboard==2.4.1) (1.35.0)\n",
      "Requirement already satisfied: wheel>=0.26 in c:\\users\\administrator\\anaconda3\\lib\\site-packages (from tensorboard==2.4.1) (0.37.0)\n",
      "Requirement already satisfied: google-auth-oauthlib<0.5,>=0.4.1 in c:\\users\\administrator\\anaconda3\\lib\\site-packages (from tensorboard==2.4.1) (0.4.6)\n",
      "Requirement already satisfied: requests<3,>=2.21.0 in c:\\users\\administrator\\anaconda3\\lib\\site-packages (from tensorboard==2.4.1) (2.26.0)\n",
      "Requirement already satisfied: numpy>=1.12.0 in c:\\users\\administrator\\anaconda3\\lib\\site-packages (from tensorboard==2.4.1) (1.20.3)\n",
      "Requirement already satisfied: markdown>=2.6.8 in c:\\users\\administrator\\anaconda3\\lib\\site-packages (from tensorboard==2.4.1) (3.3.6)\n",
      "Requirement already satisfied: absl-py>=0.4 in c:\\users\\administrator\\anaconda3\\lib\\site-packages (from tensorboard==2.4.1) (1.0.0)\n",
      "Requirement already satisfied: six>=1.10.0 in c:\\users\\administrator\\anaconda3\\lib\\site-packages (from tensorboard==2.4.1) (1.16.0)\n",
      "Requirement already satisfied: rsa<5,>=3.1.4 in c:\\users\\administrator\\anaconda3\\lib\\site-packages (from google-auth<2,>=1.6.3->tensorboard==2.4.1) (4.8)\n",
      "Requirement already satisfied: cachetools<5.0,>=2.0.0 in c:\\users\\administrator\\anaconda3\\lib\\site-packages (from google-auth<2,>=1.6.3->tensorboard==2.4.1) (4.2.4)\n",
      "Requirement already satisfied: pyasn1-modules>=0.2.1 in c:\\users\\administrator\\anaconda3\\lib\\site-packages (from google-auth<2,>=1.6.3->tensorboard==2.4.1) (0.2.8)\n",
      "Requirement already satisfied: requests-oauthlib>=0.7.0 in c:\\users\\administrator\\anaconda3\\lib\\site-packages (from google-auth-oauthlib<0.5,>=0.4.1->tensorboard==2.4.1) (1.3.1)\n",
      "Requirement already satisfied: importlib-metadata>=4.4 in c:\\users\\administrator\\anaconda3\\lib\\site-packages (from markdown>=2.6.8->tensorboard==2.4.1) (4.8.1)\n",
      "Requirement already satisfied: urllib3<1.27,>=1.21.1 in c:\\users\\administrator\\anaconda3\\lib\\site-packages (from requests<3,>=2.21.0->tensorboard==2.4.1) (1.26.7)\n",
      "Requirement already satisfied: idna<4,>=2.5 in c:\\users\\administrator\\anaconda3\\lib\\site-packages (from requests<3,>=2.21.0->tensorboard==2.4.1) (3.2)\n",
      "Requirement already satisfied: charset-normalizer~=2.0.0 in c:\\users\\administrator\\anaconda3\\lib\\site-packages (from requests<3,>=2.21.0->tensorboard==2.4.1) (2.0.4)\n",
      "Requirement already satisfied: certifi>=2017.4.17 in c:\\users\\administrator\\anaconda3\\lib\\site-packages (from requests<3,>=2.21.0->tensorboard==2.4.1) (2021.10.8)\n",
      "Requirement already satisfied: zipp>=0.5 in c:\\users\\administrator\\anaconda3\\lib\\site-packages (from importlib-metadata>=4.4->markdown>=2.6.8->tensorboard==2.4.1) (3.6.0)\n",
      "Requirement already satisfied: pyasn1<0.5.0,>=0.4.6 in c:\\users\\administrator\\anaconda3\\lib\\site-packages (from pyasn1-modules>=0.2.1->google-auth<2,>=1.6.3->tensorboard==2.4.1) (0.4.8)\n",
      "Requirement already satisfied: oauthlib>=3.0.0 in c:\\users\\administrator\\anaconda3\\lib\\site-packages (from requests-oauthlib>=0.7.0->google-auth-oauthlib<0.5,>=0.4.1->tensorboard==2.4.1) (3.2.0)\n",
      "Requirement already satisfied: wandb in c:\\users\\administrator\\anaconda3\\lib\\site-packages (0.12.11)\n",
      "Requirement already satisfied: psutil>=5.0.0 in c:\\users\\administrator\\anaconda3\\lib\\site-packages (from wandb) (5.8.0)\n",
      "Requirement already satisfied: protobuf>=3.12.0 in c:\\users\\administrator\\anaconda3\\lib\\site-packages (from wandb) (3.19.4)\n",
      "Requirement already satisfied: yaspin>=1.0.0 in c:\\users\\administrator\\anaconda3\\lib\\site-packages (from wandb) (2.1.0)\n",
      "Requirement already satisfied: shortuuid>=0.5.0 in c:\\users\\administrator\\anaconda3\\lib\\site-packages (from wandb) (1.0.8)\n",
      "Requirement already satisfied: python-dateutil>=2.6.1 in c:\\users\\administrator\\anaconda3\\lib\\site-packages (from wandb) (2.8.2)\n",
      "Requirement already satisfied: docker-pycreds>=0.4.0 in c:\\users\\administrator\\anaconda3\\lib\\site-packages (from wandb) (0.4.0)\n",
      "Requirement already satisfied: setproctitle in c:\\users\\administrator\\anaconda3\\lib\\site-packages (from wandb) (1.2.2)\n",
      "Requirement already satisfied: requests<3,>=2.0.0 in c:\\users\\administrator\\anaconda3\\lib\\site-packages (from wandb) (2.26.0)\n",
      "Requirement already satisfied: sentry-sdk>=1.0.0 in c:\\users\\administrator\\anaconda3\\lib\\site-packages (from wandb) (1.5.8)\n",
      "Requirement already satisfied: PyYAML in c:\\users\\administrator\\anaconda3\\lib\\site-packages (from wandb) (6.0)\n",
      "Requirement already satisfied: six>=1.13.0 in c:\\users\\administrator\\anaconda3\\lib\\site-packages (from wandb) (1.16.0)\n",
      "Requirement already satisfied: pathtools in c:\\users\\administrator\\anaconda3\\lib\\site-packages (from wandb) (0.1.2)\n",
      "Requirement already satisfied: promise<3,>=2.0 in c:\\users\\administrator\\anaconda3\\lib\\site-packages (from wandb) (2.3)\n",
      "Requirement already satisfied: Click!=8.0.0,>=7.0 in c:\\users\\administrator\\anaconda3\\lib\\site-packages (from wandb) (8.0.3)\n",
      "Requirement already satisfied: GitPython>=1.0.0 in c:\\users\\administrator\\anaconda3\\lib\\site-packages (from wandb) (3.1.27)\n",
      "Requirement already satisfied: colorama in c:\\users\\administrator\\anaconda3\\lib\\site-packages (from Click!=8.0.0,>=7.0->wandb) (0.4.4)\n",
      "Requirement already satisfied: gitdb<5,>=4.0.1 in c:\\users\\administrator\\anaconda3\\lib\\site-packages (from GitPython>=1.0.0->wandb) (4.0.9)\n",
      "Requirement already satisfied: charset-normalizer~=2.0.0 in c:\\users\\administrator\\anaconda3\\lib\\site-packages (from requests<3,>=2.0.0->wandb) (2.0.4)\n",
      "Requirement already satisfied: idna<4,>=2.5 in c:\\users\\administrator\\anaconda3\\lib\\site-packages (from requests<3,>=2.0.0->wandb) (3.2)\n",
      "Requirement already satisfied: urllib3<1.27,>=1.21.1 in c:\\users\\administrator\\anaconda3\\lib\\site-packages (from requests<3,>=2.0.0->wandb) (1.26.7)\n",
      "Requirement already satisfied: certifi>=2017.4.17 in c:\\users\\administrator\\anaconda3\\lib\\site-packages (from requests<3,>=2.0.0->wandb) (2021.10.8)\n",
      "Requirement already satisfied: termcolor<2.0.0,>=1.1.0 in c:\\users\\administrator\\anaconda3\\lib\\site-packages (from yaspin>=1.0.0->wandb) (1.1.0)\n",
      "Requirement already satisfied: smmap<6,>=3.0.1 in c:\\users\\administrator\\anaconda3\\lib\\site-packages (from gitdb<5,>=4.0.1->GitPython>=1.0.0->wandb) (5.0.0)\n"
     ]
    },
    {
     "name": "stderr",
     "output_type": "stream",
     "text": [
      "ERROR: Invalid requirement: '#YOLOv5'\n"
     ]
    }
   ],
   "source": [
    "!python -m pip install --upgrade pip\n",
    "\n",
    "!pip install tensorflow==2.3 \n",
    "\n",
    "!pip install tensorboard==2.4.1\n",
    "!pip install wandb\n",
    "!pip install torch  #YOLOv5 runs on top of PyTorch, so we need to import it to the notebook"
   ]
  },
  {
   "cell_type": "code",
   "execution_count": 2,
   "id": "549be2de",
   "metadata": {},
   "outputs": [
    {
     "name": "stdout",
     "output_type": "stream",
     "text": [
      "Requirement already satisfied: torch in c:\\users\\administrator\\anaconda3\\lib\\site-packages (1.11.0)\n",
      "Requirement already satisfied: typing-extensions in c:\\users\\administrator\\anaconda3\\lib\\site-packages (from torch) (3.10.0.2)\n"
     ]
    }
   ],
   "source": [
    "!pip install torch\n",
    "\n",
    "import torch # YOLOv5 implemented using pytorch"
   ]
  },
  {
   "cell_type": "code",
   "execution_count": 4,
   "id": "eabd0197",
   "metadata": {},
   "outputs": [
    {
     "name": "stderr",
     "output_type": "stream",
     "text": [
      "\u001b[34m\u001b[1mwandb\u001b[0m: You can find your API key in your browser here: https://wandb.ai/authorize\n"
     ]
    },
    {
     "name": "stdout",
     "output_type": "stream",
     "text": [
      "wandb: Paste an API key from your profile and hit enter, or press ctrl+c to quit: ········\n"
     ]
    },
    {
     "name": "stderr",
     "output_type": "stream",
     "text": [
      "\u001b[34m\u001b[1mwandb\u001b[0m: Appending key for api.wandb.ai to your netrc file: C:\\Users\\Administrator/.netrc\n"
     ]
    },
    {
     "data": {
      "text/plain": [
       "True"
      ]
     },
     "execution_count": 4,
     "metadata": {},
     "output_type": "execute_result"
    }
   ],
   "source": [
    "from IPython.display import Image #this is to render predictions\n",
    "import wandb\n",
    "wandb.login()"
   ]
  },
  {
   "cell_type": "code",
   "execution_count": 5,
   "id": "4020f9c3",
   "metadata": {},
   "outputs": [
    {
     "name": "stderr",
     "output_type": "stream",
     "text": [
      "Cloning into 'yolov5'...\n"
     ]
    }
   ],
   "source": [
    "!git clone https://github.com/ultralytics/yolov5"
   ]
  },
  {
   "cell_type": "code",
   "execution_count": 6,
   "id": "0b5873b1",
   "metadata": {},
   "outputs": [
    {
     "name": "stdout",
     "output_type": "stream",
     "text": [
      "C:\\Users\\Administrator\\Documents\\ROBOTICS\\Turtlebot Project\\yolov5\n"
     ]
    }
   ],
   "source": [
    "%cd yolov5"
   ]
  },
  {
   "cell_type": "code",
   "execution_count": 7,
   "id": "b8b18a72",
   "metadata": {
    "scrolled": true
   },
   "outputs": [
    {
     "name": "stdout",
     "output_type": "stream",
     "text": [
      "Requirement already satisfied: matplotlib>=3.2.2 in c:\\users\\administrator\\anaconda3\\lib\\site-packages (from -r requirements.txt (line 4)) (3.4.3)\n",
      "Requirement already satisfied: numpy>=1.18.5 in c:\\users\\administrator\\anaconda3\\lib\\site-packages (from -r requirements.txt (line 5)) (1.20.3)\n",
      "Collecting opencv-python>=4.1.2\n",
      "  Downloading opencv_python-4.5.5.64-cp36-abi3-win_amd64.whl (35.4 MB)\n",
      "     ---------------------------------------- 35.4/35.4 MB 5.1 MB/s eta 0:00:00\n",
      "Requirement already satisfied: Pillow>=7.1.2 in c:\\users\\administrator\\anaconda3\\lib\\site-packages (from -r requirements.txt (line 7)) (8.4.0)\n",
      "Requirement already satisfied: PyYAML>=5.3.1 in c:\\users\\administrator\\anaconda3\\lib\\site-packages (from -r requirements.txt (line 8)) (6.0)\n",
      "Requirement already satisfied: requests>=2.23.0 in c:\\users\\administrator\\anaconda3\\lib\\site-packages (from -r requirements.txt (line 9)) (2.26.0)\n",
      "Requirement already satisfied: scipy>=1.4.1 in c:\\users\\administrator\\anaconda3\\lib\\site-packages (from -r requirements.txt (line 10)) (1.7.1)\n",
      "Requirement already satisfied: torch>=1.7.0 in c:\\users\\administrator\\anaconda3\\lib\\site-packages (from -r requirements.txt (line 11)) (1.11.0)\n",
      "Collecting torchvision>=0.8.1\n",
      "  Downloading torchvision-0.12.0-cp39-cp39-win_amd64.whl (1.0 MB)\n",
      "     ---------------------------------------- 1.0/1.0 MB 3.8 MB/s eta 0:00:00\n",
      "Requirement already satisfied: tqdm>=4.41.0 in c:\\users\\administrator\\anaconda3\\lib\\site-packages (from -r requirements.txt (line 13)) (4.62.3)\n",
      "Requirement already satisfied: tensorboard>=2.4.1 in c:\\users\\administrator\\anaconda3\\lib\\site-packages (from -r requirements.txt (line 16)) (2.4.1)\n",
      "Requirement already satisfied: pandas>=1.1.4 in c:\\users\\administrator\\anaconda3\\lib\\site-packages (from -r requirements.txt (line 20)) (1.3.4)\n",
      "Requirement already satisfied: seaborn>=0.11.0 in c:\\users\\administrator\\anaconda3\\lib\\site-packages (from -r requirements.txt (line 21)) (0.11.2)\n",
      "Collecting thop\n",
      "  Downloading thop-0.0.31.post2005241907-py3-none-any.whl (8.7 kB)\n",
      "Requirement already satisfied: cycler>=0.10 in c:\\users\\administrator\\anaconda3\\lib\\site-packages (from matplotlib>=3.2.2->-r requirements.txt (line 4)) (0.10.0)\n",
      "Requirement already satisfied: pyparsing>=2.2.1 in c:\\users\\administrator\\anaconda3\\lib\\site-packages (from matplotlib>=3.2.2->-r requirements.txt (line 4)) (3.0.4)\n",
      "Requirement already satisfied: python-dateutil>=2.7 in c:\\users\\administrator\\anaconda3\\lib\\site-packages (from matplotlib>=3.2.2->-r requirements.txt (line 4)) (2.8.2)\n",
      "Requirement already satisfied: kiwisolver>=1.0.1 in c:\\users\\administrator\\anaconda3\\lib\\site-packages (from matplotlib>=3.2.2->-r requirements.txt (line 4)) (1.3.1)\n",
      "Requirement already satisfied: charset-normalizer~=2.0.0 in c:\\users\\administrator\\anaconda3\\lib\\site-packages (from requests>=2.23.0->-r requirements.txt (line 9)) (2.0.4)\n",
      "Requirement already satisfied: urllib3<1.27,>=1.21.1 in c:\\users\\administrator\\anaconda3\\lib\\site-packages (from requests>=2.23.0->-r requirements.txt (line 9)) (1.26.7)\n",
      "Requirement already satisfied: idna<4,>=2.5 in c:\\users\\administrator\\anaconda3\\lib\\site-packages (from requests>=2.23.0->-r requirements.txt (line 9)) (3.2)\n",
      "Requirement already satisfied: certifi>=2017.4.17 in c:\\users\\administrator\\anaconda3\\lib\\site-packages (from requests>=2.23.0->-r requirements.txt (line 9)) (2021.10.8)\n",
      "Requirement already satisfied: typing-extensions in c:\\users\\administrator\\anaconda3\\lib\\site-packages (from torch>=1.7.0->-r requirements.txt (line 11)) (3.10.0.2)\n",
      "Requirement already satisfied: colorama in c:\\users\\administrator\\anaconda3\\lib\\site-packages (from tqdm>=4.41.0->-r requirements.txt (line 13)) (0.4.4)\n",
      "Requirement already satisfied: absl-py>=0.4 in c:\\users\\administrator\\anaconda3\\lib\\site-packages (from tensorboard>=2.4.1->-r requirements.txt (line 16)) (1.0.0)\n",
      "Requirement already satisfied: setuptools>=41.0.0 in c:\\users\\administrator\\anaconda3\\lib\\site-packages (from tensorboard>=2.4.1->-r requirements.txt (line 16)) (58.0.4)\n",
      "Requirement already satisfied: grpcio>=1.24.3 in c:\\users\\administrator\\anaconda3\\lib\\site-packages (from tensorboard>=2.4.1->-r requirements.txt (line 16)) (1.44.0)\n",
      "Requirement already satisfied: google-auth-oauthlib<0.5,>=0.4.1 in c:\\users\\administrator\\anaconda3\\lib\\site-packages (from tensorboard>=2.4.1->-r requirements.txt (line 16)) (0.4.6)\n",
      "Requirement already satisfied: markdown>=2.6.8 in c:\\users\\administrator\\anaconda3\\lib\\site-packages (from tensorboard>=2.4.1->-r requirements.txt (line 16)) (3.3.6)\n",
      "Requirement already satisfied: six>=1.10.0 in c:\\users\\administrator\\anaconda3\\lib\\site-packages (from tensorboard>=2.4.1->-r requirements.txt (line 16)) (1.16.0)\n",
      "Requirement already satisfied: tensorboard-plugin-wit>=1.6.0 in c:\\users\\administrator\\anaconda3\\lib\\site-packages (from tensorboard>=2.4.1->-r requirements.txt (line 16)) (1.8.1)\n",
      "Requirement already satisfied: protobuf>=3.6.0 in c:\\users\\administrator\\anaconda3\\lib\\site-packages (from tensorboard>=2.4.1->-r requirements.txt (line 16)) (3.19.4)\n",
      "Requirement already satisfied: wheel>=0.26 in c:\\users\\administrator\\anaconda3\\lib\\site-packages (from tensorboard>=2.4.1->-r requirements.txt (line 16)) (0.37.0)\n",
      "Requirement already satisfied: werkzeug>=0.11.15 in c:\\users\\administrator\\anaconda3\\lib\\site-packages (from tensorboard>=2.4.1->-r requirements.txt (line 16)) (2.0.2)\n",
      "Requirement already satisfied: google-auth<2,>=1.6.3 in c:\\users\\administrator\\anaconda3\\lib\\site-packages (from tensorboard>=2.4.1->-r requirements.txt (line 16)) (1.35.0)\n",
      "Requirement already satisfied: pytz>=2017.3 in c:\\users\\administrator\\anaconda3\\lib\\site-packages (from pandas>=1.1.4->-r requirements.txt (line 20)) (2021.3)\n",
      "Requirement already satisfied: pyasn1-modules>=0.2.1 in c:\\users\\administrator\\anaconda3\\lib\\site-packages (from google-auth<2,>=1.6.3->tensorboard>=2.4.1->-r requirements.txt (line 16)) (0.2.8)\n",
      "Requirement already satisfied: cachetools<5.0,>=2.0.0 in c:\\users\\administrator\\anaconda3\\lib\\site-packages (from google-auth<2,>=1.6.3->tensorboard>=2.4.1->-r requirements.txt (line 16)) (4.2.4)\n",
      "Requirement already satisfied: rsa<5,>=3.1.4 in c:\\users\\administrator\\anaconda3\\lib\\site-packages (from google-auth<2,>=1.6.3->tensorboard>=2.4.1->-r requirements.txt (line 16)) (4.8)\n",
      "Requirement already satisfied: requests-oauthlib>=0.7.0 in c:\\users\\administrator\\anaconda3\\lib\\site-packages (from google-auth-oauthlib<0.5,>=0.4.1->tensorboard>=2.4.1->-r requirements.txt (line 16)) (1.3.1)\n",
      "Requirement already satisfied: importlib-metadata>=4.4 in c:\\users\\administrator\\anaconda3\\lib\\site-packages (from markdown>=2.6.8->tensorboard>=2.4.1->-r requirements.txt (line 16)) (4.8.1)\n",
      "Requirement already satisfied: zipp>=0.5 in c:\\users\\administrator\\anaconda3\\lib\\site-packages (from importlib-metadata>=4.4->markdown>=2.6.8->tensorboard>=2.4.1->-r requirements.txt (line 16)) (3.6.0)\n",
      "Requirement already satisfied: pyasn1<0.5.0,>=0.4.6 in c:\\users\\administrator\\anaconda3\\lib\\site-packages (from pyasn1-modules>=0.2.1->google-auth<2,>=1.6.3->tensorboard>=2.4.1->-r requirements.txt (line 16)) (0.4.8)\n",
      "Requirement already satisfied: oauthlib>=3.0.0 in c:\\users\\administrator\\anaconda3\\lib\\site-packages (from requests-oauthlib>=0.7.0->google-auth-oauthlib<0.5,>=0.4.1->tensorboard>=2.4.1->-r requirements.txt (line 16)) (3.2.0)\n",
      "Installing collected packages: opencv-python, torchvision, thop\n",
      "Successfully installed opencv-python-4.5.5.64 thop-0.0.31.post2005241907 torchvision-0.12.0\n"
     ]
    }
   ],
   "source": [
    "!pip install -r requirements.txt"
   ]
  },
  {
   "cell_type": "code",
   "execution_count": 8,
   "id": "85229e8f",
   "metadata": {
    "scrolled": true
   },
   "outputs": [
    {
     "name": "stdout",
     "output_type": "stream",
     "text": [
      "training images are :  44\n",
      "Validation images are :  11\n"
     ]
    }
   ],
   "source": [
    "import os\n",
    "from random import choice\n",
    "import shutil\n",
    "\n",
    "#arrays to store file names\n",
    "imgs =[]\n",
    "xmls =[]\n",
    "\n",
    "#setup dir names\n",
    "trainPath = 'C:/Users/Administrator/Documents/ROBOTICS/Turtlebot Project/yolov5/data/images/train'\n",
    "valPath = 'C:/Users/Administrator/Documents/ROBOTICS/Turtlebot Project/yolov5/data/images/val'\n",
    "crsPath = 'C:/Users/Administrator/Documents/ROBOTICS/Turtlebot Project/yolov5/data/ts' #dir where images and annotations stored\n",
    "\n",
    "#setup ratio (val ratio = rest of the files in origin dir after splitting into train and test)\n",
    "train_ratio = 0.8\n",
    "val_ratio = 0.2\n",
    "\n",
    "\n",
    "#total count of imgs\n",
    "totalImgCount = len(os.listdir(crsPath))/2\n",
    "\n",
    "#soring files to corresponding arrays\n",
    "for (dirname, dirs, files) in os.walk(crsPath):\n",
    "    for filename in files:\n",
    "        if filename.endswith('.txt'):\n",
    "            xmls.append(filename)\n",
    "        else:\n",
    "            imgs.append(filename)\n",
    "\n",
    "\n",
    "#counting range for cycles\n",
    "countForTrain = int(len(imgs)*train_ratio)\n",
    "countForVal = int(len(imgs)*val_ratio)\n",
    "print(\"training images are : \",countForTrain)\n",
    "print(\"Validation images are : \",countForVal)"
   ]
  },
  {
   "cell_type": "code",
   "execution_count": 9,
   "id": "0d601c99",
   "metadata": {},
   "outputs": [
    {
     "data": {
      "text/plain": [
       "'C:/Users/Administrator/Documents/ROBOTICS/Turtlebot Project/yolov5/data/images/val\\\\ts'"
      ]
     },
     "execution_count": 9,
     "metadata": {},
     "output_type": "execute_result"
    }
   ],
   "source": [
    "trainimagePath = 'C:/Users/Administrator/Documents/ROBOTICS/Turtlebot Project/yolov5/data/images/train'\n",
    "trainlabelPath = 'C:/Users/Administrator/Documents/ROBOTICS/Turtlebot Project/yolov5/data/labels/train'\n",
    "valimagePath = 'C:/Users/Administrator/Documents/ROBOTICS/Turtlebot Project/yolov5/data/images/val'\n",
    "vallabelPath = 'C:/Users/Administrator/Documents/ROBOTICS/Turtlebot Project/yolov5/data/labels/val'\n",
    "#cycle for train dir\n",
    "for x in range(countForTrain):\n",
    "\n",
    "    fileJpg = choice(imgs) # get name of random image from origin dir\n",
    "    fileXml = fileJpg[:-4] +'.txt' # get name of corresponding annotation file\n",
    "\n",
    "    #move both files into train dir\n",
    "    #shutil.move(os.path.join(crsPath, fileJpg), os.path.join(trainimagePath, fileJpg))\n",
    "    #shutil.move(os.path.join(crsPath, fileXml), os.path.join(trainlabelPath, fileXml))\n",
    "    shutil.copy(os.path.join(crsPath, fileJpg), os.path.join(trainimagePath, fileJpg))\n",
    "    shutil.copy(os.path.join(crsPath, fileXml), os.path.join(trainlabelPath, fileXml))\n",
    "\n",
    "\n",
    "    #remove files from arrays\n",
    "    imgs.remove(fileJpg)\n",
    "    xmls.remove(fileXml)\n",
    "\n",
    "\n",
    "\n",
    "#cycle for test dir   \n",
    "for x in range(countForVal):\n",
    "\n",
    "    fileJpg = choice(imgs) # get name of random image from origin dir\n",
    "    fileXml = fileJpg[:-4] +'.txt' # get name of corresponding annotation file\n",
    "\n",
    "    #move both files into train dir\n",
    "    #shutil.move(os.path.join(crsPath, fileJpg), os.path.join(valimagePath, fileJpg))\n",
    "    #shutil.move(os.path.join(crsPath, fileXml), os.path.join(vallabelPath, fileXml))\n",
    "    shutil.copy(os.path.join(crsPath, fileJpg), os.path.join(valimagePath, fileJpg))\n",
    "    shutil.copy(os.path.join(crsPath, fileXml), os.path.join(vallabelPath, fileXml))\n",
    "    \n",
    "    #remove files from arrays\n",
    "    imgs.remove(fileJpg)\n",
    "    xmls.remove(fileXml)\n",
    "\n",
    "#rest of files will be validation files, so rename origin dir to val dir\n",
    "#os.rename(crsPath, valPath)\n",
    "shutil.move(crsPath, valPath) "
   ]
  },
  {
   "cell_type": "code",
   "execution_count": 20,
   "id": "16ff306d",
   "metadata": {},
   "outputs": [],
   "source": [
    "!python train.py --img 44 --batch 5 --epochs 10 --data dataset.yaml --weights yolov5s.pt --cache"
   ]
  }
 ],
 "metadata": {
  "kernelspec": {
   "display_name": "Python 3 (ipykernel)",
   "language": "python",
   "name": "python3"
  },
  "language_info": {
   "codemirror_mode": {
    "name": "ipython",
    "version": 3
   },
   "file_extension": ".py",
   "mimetype": "text/x-python",
   "name": "python",
   "nbconvert_exporter": "python",
   "pygments_lexer": "ipython3",
   "version": "3.9.7"
  }
 },
 "nbformat": 4,
 "nbformat_minor": 5
}
